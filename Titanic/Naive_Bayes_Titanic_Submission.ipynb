{
 "cells": [
  {
   "cell_type": "code",
   "execution_count": null,
   "metadata": {},
   "outputs": [],
   "source": [
    "import pandas as pd\n",
    "import numpy as np\n",
    "from sklearn.preprocessing import StandardScaler, LabelEncoder, OneHotEncoder, Imputer\n",
    "from sklearn.metrics import accuracy_score, confusion_matrix\n",
    "from sklearn.naive_bayes import GaussianNB\n",
    "import collections"
   ]
  },
  {
   "cell_type": "markdown",
   "metadata": {},
   "source": [
    "## Train Data!\n",
    "---"
   ]
  },
  {
   "cell_type": "code",
   "execution_count": null,
   "metadata": {},
   "outputs": [],
   "source": [
    "df_train = pd.read_csv('train.csv')\n",
    "df_train.head()"
   ]
  },
  {
   "cell_type": "code",
   "execution_count": null,
   "metadata": {
    "scrolled": true
   },
   "outputs": [],
   "source": [
    "df_train.drop(columns=['Ticket', 'Name', 'Cabin', 'Embarked'], inplace=True)\n",
    "df_train.head()"
   ]
  },
  {
   "cell_type": "code",
   "execution_count": null,
   "metadata": {},
   "outputs": [],
   "source": [
    "def check_missing_data(df):\n",
    "    columns = df.columns\n",
    "    for i in columns:\n",
    "        if pd.isna(df[i]).sum(axis = 0) > 0:\n",
    "            print('Column: {} has {} NaN value'.format(i, pd.isna(df[i]).sum(axis = 0)))\n",
    "            \n",
    "check_missing_data(df_train)"
   ]
  },
  {
   "cell_type": "code",
   "execution_count": null,
   "metadata": {},
   "outputs": [],
   "source": [
    "df_train.plot.scatter('Age', 'PassengerId')"
   ]
  },
  {
   "cell_type": "code",
   "execution_count": null,
   "metadata": {},
   "outputs": [],
   "source": [
    "# Fill Values\n",
    "#df_train['Age'][df_train.Age > 0].mean()\n",
    "df_train['Age'] = df_train['Age'].fillna(value=df_train['Age'][df_train.Age > 0].mean())\n",
    "check_missing_data(df_train)"
   ]
  },
  {
   "cell_type": "code",
   "execution_count": null,
   "metadata": {},
   "outputs": [],
   "source": [
    "# Forecasters\n",
    "forecasters_train = df_train.iloc[:, 2:7].values\n",
    "forecasters_train"
   ]
  },
  {
   "cell_type": "code",
   "execution_count": null,
   "metadata": {
    "scrolled": true
   },
   "outputs": [],
   "source": [
    "# Classes\n",
    "classes_train = df_train.iloc[:, 1].values\n",
    "classes_train"
   ]
  },
  {
   "cell_type": "code",
   "execution_count": null,
   "metadata": {},
   "outputs": [],
   "source": [
    "df_train.head()"
   ]
  },
  {
   "cell_type": "code",
   "execution_count": null,
   "metadata": {
    "scrolled": true
   },
   "outputs": [],
   "source": [
    "# LABEL ENCODER\n",
    "forecasters_label_encoder = LabelEncoder()\n",
    "forecasters_train[:, 0] = forecasters_label_encoder.fit_transform(forecasters_train[:, 0])\n",
    "forecasters_train[:, 1] = forecasters_label_encoder.fit_transform(forecasters_train[:, 1])\n",
    "forecasters_train[:, 3] = forecasters_label_encoder.fit_transform(forecasters_train[:, 3])\n",
    "forecasters_train[:, 4] = forecasters_label_encoder.fit_transform(forecasters_train[:, 4])\n",
    "forecasters_train"
   ]
  },
  {
   "cell_type": "code",
   "execution_count": null,
   "metadata": {},
   "outputs": [],
   "source": [
    "# ONE HOT ENCODER\n",
    "one_hot_encoder = OneHotEncoder(categorical_features=[1])\n",
    "forecasters_train = one_hot_encoder.fit_transform(forecasters_train).toarray()\n",
    "forecasters_train"
   ]
  },
  {
   "cell_type": "code",
   "execution_count": null,
   "metadata": {},
   "outputs": [],
   "source": [
    "# SCALING\n",
    "scaler = StandardScaler()\n",
    "forecasters_train = scaler.fit_transform(forecasters_train)\n",
    "forecasters_train"
   ]
  },
  {
   "cell_type": "markdown",
   "metadata": {},
   "source": [
    "## Test Data!\n",
    "---"
   ]
  },
  {
   "cell_type": "code",
   "execution_count": null,
   "metadata": {},
   "outputs": [],
   "source": [
    "df_test = pd.read_csv('test.csv')\n",
    "df_test.head()"
   ]
  },
  {
   "cell_type": "code",
   "execution_count": null,
   "metadata": {},
   "outputs": [],
   "source": [
    "df_test_class = pd.read_csv('gender_submission.csv')\n",
    "df_test_class.head()"
   ]
  },
  {
   "cell_type": "code",
   "execution_count": null,
   "metadata": {},
   "outputs": [],
   "source": [
    "df_test.drop(columns=['Name', 'Ticket', 'Cabin', 'Embarked'], inplace=True)\n",
    "df_test.head()"
   ]
  },
  {
   "cell_type": "code",
   "execution_count": null,
   "metadata": {},
   "outputs": [],
   "source": [
    "check_missing_data(df_test)"
   ]
  },
  {
   "cell_type": "code",
   "execution_count": null,
   "metadata": {},
   "outputs": [],
   "source": [
    "#df_test['Age'] = df_test['Age'].fillna(value=df_test['Age'][df_test.Age > 0].mean())\n",
    "df_test['Age'] = df_test['Age'].fillna(value=df_test['Age'][df_test.Age > 0].mean())\n",
    "#df_test['Age'][df_test.Age > 0].mean()\n",
    "df_test['Fare'] = df_test['Fare'].fillna(value=df_test['Fare'][df_test.Age < 500].mean())\n",
    "check_missing_data(df_test)"
   ]
  },
  {
   "cell_type": "code",
   "execution_count": null,
   "metadata": {},
   "outputs": [],
   "source": [
    "forecasters_test = df_test.iloc[:, 1:6].values\n",
    "forecasters_test"
   ]
  },
  {
   "cell_type": "code",
   "execution_count": null,
   "metadata": {},
   "outputs": [],
   "source": [
    "classes_test= df_test_class.iloc[:, 1].values\n",
    "classes_test"
   ]
  },
  {
   "cell_type": "code",
   "execution_count": null,
   "metadata": {
    "scrolled": true
   },
   "outputs": [],
   "source": [
    "df_test.head()"
   ]
  },
  {
   "cell_type": "code",
   "execution_count": null,
   "metadata": {},
   "outputs": [],
   "source": [
    "# LABEL ENCODER\n",
    "forecasters_test_label_encoder = LabelEncoder()\n",
    "forecasters_test[:, 0] = forecasters_test_label_encoder.fit_transform(forecasters_test[:, 0])\n",
    "forecasters_test[:, 1] = forecasters_test_label_encoder.fit_transform(forecasters_test[:, 1])\n",
    "forecasters_test[:, 3] = forecasters_test_label_encoder.fit_transform(forecasters_test[:, 3])\n",
    "forecasters_test[:, 4] = forecasters_test_label_encoder.fit_transform(forecasters_test[:, 4])\n",
    "forecasters_test"
   ]
  },
  {
   "cell_type": "code",
   "execution_count": null,
   "metadata": {},
   "outputs": [],
   "source": [
    "# ONE HOT ENCODER\n",
    "one_hot_encoder = OneHotEncoder(categorical_features=[1])\n",
    "forecasters_test = one_hot_encoder.fit_transform(forecasters_test).toarray()\n",
    "forecasters_test"
   ]
  },
  {
   "cell_type": "code",
   "execution_count": null,
   "metadata": {
    "scrolled": true
   },
   "outputs": [],
   "source": [
    "# SCALING\n",
    "scaler = StandardScaler()\n",
    "forecasters_test = scaler.fit_transform(forecasters_test)\n",
    "forecasters_test"
   ]
  },
  {
   "cell_type": "code",
   "execution_count": null,
   "metadata": {},
   "outputs": [],
   "source": [
    "estimator = GaussianNB()\n",
    "estimator.fit(forecasters_train, classes_train)\n",
    "estimator"
   ]
  },
  {
   "cell_type": "code",
   "execution_count": null,
   "metadata": {},
   "outputs": [],
   "source": [
    "predictions = estimator.predict(forecasters_test)\n",
    "predictions"
   ]
  },
  {
   "cell_type": "code",
   "execution_count": null,
   "metadata": {},
   "outputs": [],
   "source": [
    "precision = accuracy_score(classes_test, predictions)\n",
    "print('Precision: {}%'.format(precision * 100))"
   ]
  },
  {
   "cell_type": "code",
   "execution_count": null,
   "metadata": {},
   "outputs": [],
   "source": [
    "matrix = confusion_matrix(classes_test, predictions)\n",
    "print('Confusion Matrix:'\n",
    "  '\\n\\t0\\t1\\n0:\\t{}\\t{}'\n",
    "  '\\n1:\\t{}\\t{}'.format(matrix[0][0], matrix[0][1], matrix[1][0], matrix[1][1]))"
   ]
  },
  {
   "cell_type": "code",
   "execution_count": null,
   "metadata": {},
   "outputs": [],
   "source": [
    "np.savetxt(\"predictions.csv\", predictions, fmt=\"%d\", delimiter=\",\")"
   ]
  },
  {
   "cell_type": "code",
   "execution_count": null,
   "metadata": {},
   "outputs": [],
   "source": []
  }
 ],
 "metadata": {
  "kernelspec": {
   "display_name": "Python 3",
   "language": "python",
   "name": "python3"
  },
  "language_info": {
   "codemirror_mode": {
    "name": "ipython",
    "version": 3
   },
   "file_extension": ".py",
   "mimetype": "text/x-python",
   "name": "python",
   "nbconvert_exporter": "python",
   "pygments_lexer": "ipython3",
   "version": "3.7.3"
  }
 },
 "nbformat": 4,
 "nbformat_minor": 2
}
